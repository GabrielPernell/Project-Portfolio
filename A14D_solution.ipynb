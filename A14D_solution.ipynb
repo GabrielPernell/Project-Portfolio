{
 "cells": [
  {
   "cell_type": "code",
   "execution_count": 209,
   "metadata": {},
   "outputs": [],
   "source": [
    "import pandas as pd\n",
    "import seaborn as sns\n",
    "\n",
    "from sklearn.linear_model import LogisticRegression\n",
    "from sklearn.model_selection import train_test_split\n",
    "from sklearn.metrics import accuracy_score\n",
    "from sklearn.ensemble import GradientBoostingClassifier\n",
    "from sklearn.preprocessing import LabelEncoder"
   ]
  },
  {
   "cell_type": "code",
   "execution_count": 221,
   "metadata": {},
   "outputs": [],
   "source": [
    "data = pd.read_csv(\"train.csv\")\n",
    "\n",
    "#data"
   ]
  },
  {
   "cell_type": "code",
   "execution_count": 222,
   "metadata": {},
   "outputs": [],
   "source": [
    "test_data = pd.read_csv('Test.csv')\n",
    "#test_data"
   ]
  },
  {
   "cell_type": "code",
   "execution_count": 213,
   "metadata": {},
   "outputs": [
    {
     "data": {
      "text/plain": [
       "Index(['Tour_ID', 'country', 'age_group', 'travel_with', 'total_female',\n",
       "       'total_male', 'purpose', 'main_activity', 'info_source',\n",
       "       'tour_arrangement', 'package_transport_int', 'package_accomodation',\n",
       "       'package_food', 'package_transport_tz', 'package_sightseeing',\n",
       "       'package_guided_tour', 'package_insurance', 'night_mainland',\n",
       "       'night_zanzibar', 'first_trip_tz', 'cost_category'],\n",
       "      dtype='object')"
      ]
     },
     "execution_count": 213,
     "metadata": {},
     "output_type": "execute_result"
    }
   ],
   "source": [
    "data.columns"
   ]
  },
  {
   "cell_type": "code",
   "execution_count": 223,
   "metadata": {},
   "outputs": [],
   "source": [
    "data.drop(columns=[\n",
    "    \"info_source\",\n",
    "    \"travel_with\"\n",
    "], inplace=True)\n",
    "\n",
    "data.total_female.fillna(data.total_female.mean(),inplace=True)\n",
    "data.total_male.fillna(data.total_male.mean(),inplace=True)\n",
    "\n",
    "test_data.drop(columns=[\n",
    "    \"info_source\",\n",
    "    \"travel_with\"\n",
    "], inplace=True)\n",
    "\n",
    "test_data.total_female.fillna(test_data.total_female.mean(),inplace=True)\n",
    "test_data.total_male.fillna(test_data.total_male.mean(),inplace=True)\n",
    "\n"
   ]
  },
  {
   "cell_type": "code",
   "execution_count": 224,
   "metadata": {},
   "outputs": [],
   "source": [
    "#data.dropna(inplace=True)\n"
   ]
  },
  {
   "cell_type": "code",
   "execution_count": 190,
   "metadata": {},
   "outputs": [],
   "source": [
    "#test_data.dropna(inplace=True)"
   ]
  },
  {
   "cell_type": "code",
   "execution_count": 225,
   "metadata": {},
   "outputs": [],
   "source": [
    "X_train = data.drop(['cost_category', 'Tour_ID'], axis=1)  # Exclude the target column and tourist ID\n",
    "y_train = data['cost_category']  # Target variable\n",
    "tourist_ids_train = data['Tour_ID']  # Tourist ID column"
   ]
  },
  {
   "cell_type": "code",
   "execution_count": 226,
   "metadata": {},
   "outputs": [],
   "source": [
    "X_test = test_data.drop( 'Tour_ID', axis=1)  # Exclude the target column and tourist ID\n",
    "tourist_ids_test = test_data['Tour_ID']  # Tourist ID column"
   ]
  },
  {
   "cell_type": "code",
   "execution_count": 227,
   "metadata": {},
   "outputs": [],
   "source": [
    "categorical_columns = X_train.select_dtypes(include='object').columns\n",
    "X_train_encoded = pd.get_dummies(X_train, columns=categorical_columns)\n",
    "X_test_encoded = pd.get_dummies(X_test, columns=categorical_columns)"
   ]
  },
  {
   "cell_type": "code",
   "execution_count": 228,
   "metadata": {},
   "outputs": [],
   "source": [
    "X_test_encoded = X_test_encoded.reindex(columns=X_train_encoded.columns, fill_value=0)"
   ]
  },
  {
   "cell_type": "code",
   "execution_count": 229,
   "metadata": {},
   "outputs": [
    {
     "data": {
      "text/html": [
       "<style>#sk-container-id-9 {color: black;background-color: white;}#sk-container-id-9 pre{padding: 0;}#sk-container-id-9 div.sk-toggleable {background-color: white;}#sk-container-id-9 label.sk-toggleable__label {cursor: pointer;display: block;width: 100%;margin-bottom: 0;padding: 0.3em;box-sizing: border-box;text-align: center;}#sk-container-id-9 label.sk-toggleable__label-arrow:before {content: \"▸\";float: left;margin-right: 0.25em;color: #696969;}#sk-container-id-9 label.sk-toggleable__label-arrow:hover:before {color: black;}#sk-container-id-9 div.sk-estimator:hover label.sk-toggleable__label-arrow:before {color: black;}#sk-container-id-9 div.sk-toggleable__content {max-height: 0;max-width: 0;overflow: hidden;text-align: left;background-color: #f0f8ff;}#sk-container-id-9 div.sk-toggleable__content pre {margin: 0.2em;color: black;border-radius: 0.25em;background-color: #f0f8ff;}#sk-container-id-9 input.sk-toggleable__control:checked~div.sk-toggleable__content {max-height: 200px;max-width: 100%;overflow: auto;}#sk-container-id-9 input.sk-toggleable__control:checked~label.sk-toggleable__label-arrow:before {content: \"▾\";}#sk-container-id-9 div.sk-estimator input.sk-toggleable__control:checked~label.sk-toggleable__label {background-color: #d4ebff;}#sk-container-id-9 div.sk-label input.sk-toggleable__control:checked~label.sk-toggleable__label {background-color: #d4ebff;}#sk-container-id-9 input.sk-hidden--visually {border: 0;clip: rect(1px 1px 1px 1px);clip: rect(1px, 1px, 1px, 1px);height: 1px;margin: -1px;overflow: hidden;padding: 0;position: absolute;width: 1px;}#sk-container-id-9 div.sk-estimator {font-family: monospace;background-color: #f0f8ff;border: 1px dotted black;border-radius: 0.25em;box-sizing: border-box;margin-bottom: 0.5em;}#sk-container-id-9 div.sk-estimator:hover {background-color: #d4ebff;}#sk-container-id-9 div.sk-parallel-item::after {content: \"\";width: 100%;border-bottom: 1px solid gray;flex-grow: 1;}#sk-container-id-9 div.sk-label:hover label.sk-toggleable__label {background-color: #d4ebff;}#sk-container-id-9 div.sk-serial::before {content: \"\";position: absolute;border-left: 1px solid gray;box-sizing: border-box;top: 0;bottom: 0;left: 50%;z-index: 0;}#sk-container-id-9 div.sk-serial {display: flex;flex-direction: column;align-items: center;background-color: white;padding-right: 0.2em;padding-left: 0.2em;position: relative;}#sk-container-id-9 div.sk-item {position: relative;z-index: 1;}#sk-container-id-9 div.sk-parallel {display: flex;align-items: stretch;justify-content: center;background-color: white;position: relative;}#sk-container-id-9 div.sk-item::before, #sk-container-id-9 div.sk-parallel-item::before {content: \"\";position: absolute;border-left: 1px solid gray;box-sizing: border-box;top: 0;bottom: 0;left: 50%;z-index: -1;}#sk-container-id-9 div.sk-parallel-item {display: flex;flex-direction: column;z-index: 1;position: relative;background-color: white;}#sk-container-id-9 div.sk-parallel-item:first-child::after {align-self: flex-end;width: 50%;}#sk-container-id-9 div.sk-parallel-item:last-child::after {align-self: flex-start;width: 50%;}#sk-container-id-9 div.sk-parallel-item:only-child::after {width: 0;}#sk-container-id-9 div.sk-dashed-wrapped {border: 1px dashed gray;margin: 0 0.4em 0.5em 0.4em;box-sizing: border-box;padding-bottom: 0.4em;background-color: white;}#sk-container-id-9 div.sk-label label {font-family: monospace;font-weight: bold;display: inline-block;line-height: 1.2em;}#sk-container-id-9 div.sk-label-container {text-align: center;}#sk-container-id-9 div.sk-container {/* jupyter's `normalize.less` sets `[hidden] { display: none; }` but bootstrap.min.css set `[hidden] { display: none !important; }` so we also need the `!important` here to be able to override the default hidden behavior on the sphinx rendered scikit-learn.org. See: https://github.com/scikit-learn/scikit-learn/issues/21755 */display: inline-block !important;position: relative;}#sk-container-id-9 div.sk-text-repr-fallback {display: none;}</style><div id=\"sk-container-id-9\" class=\"sk-top-container\"><div class=\"sk-text-repr-fallback\"><pre>GradientBoostingClassifier()</pre><b>In a Jupyter environment, please rerun this cell to show the HTML representation or trust the notebook. <br />On GitHub, the HTML representation is unable to render, please try loading this page with nbviewer.org.</b></div><div class=\"sk-container\" hidden><div class=\"sk-item\"><div class=\"sk-estimator sk-toggleable\"><input class=\"sk-toggleable__control sk-hidden--visually\" id=\"sk-estimator-id-9\" type=\"checkbox\" checked><label for=\"sk-estimator-id-9\" class=\"sk-toggleable__label sk-toggleable__label-arrow\">GradientBoostingClassifier</label><div class=\"sk-toggleable__content\"><pre>GradientBoostingClassifier()</pre></div></div></div></div></div>"
      ],
      "text/plain": [
       "GradientBoostingClassifier()"
      ]
     },
     "execution_count": 229,
     "metadata": {},
     "output_type": "execute_result"
    }
   ],
   "source": [
    "model = GradientBoostingClassifier()\n",
    "model.fit(X_train_encoded, y_train)"
   ]
  },
  {
   "cell_type": "code",
   "execution_count": 230,
   "metadata": {},
   "outputs": [],
   "source": [
    "prob = model.predict_proba(X_test_encoded)\n",
    "\n"
   ]
  },
  {
   "cell_type": "code",
   "execution_count": 231,
   "metadata": {},
   "outputs": [],
   "source": [
    "classes = model.classes_\n"
   ]
  },
  {
   "cell_type": "code",
   "execution_count": 232,
   "metadata": {},
   "outputs": [
    {
     "data": {
      "text/html": [
       "<div>\n",
       "<style scoped>\n",
       "    .dataframe tbody tr th:only-of-type {\n",
       "        vertical-align: middle;\n",
       "    }\n",
       "\n",
       "    .dataframe tbody tr th {\n",
       "        vertical-align: top;\n",
       "    }\n",
       "\n",
       "    .dataframe thead th {\n",
       "        text-align: right;\n",
       "    }\n",
       "</style>\n",
       "<table border=\"1\" class=\"dataframe\">\n",
       "  <thead>\n",
       "    <tr style=\"text-align: right;\">\n",
       "      <th></th>\n",
       "      <th>High Cost</th>\n",
       "      <th>Higher Cost</th>\n",
       "      <th>Highest Cost</th>\n",
       "      <th>Low Cost</th>\n",
       "      <th>Lower Cost</th>\n",
       "      <th>Normal Cost</th>\n",
       "    </tr>\n",
       "    <tr>\n",
       "      <th>Tour_ID</th>\n",
       "      <th></th>\n",
       "      <th></th>\n",
       "      <th></th>\n",
       "      <th></th>\n",
       "      <th></th>\n",
       "      <th></th>\n",
       "    </tr>\n",
       "  </thead>\n",
       "  <tbody>\n",
       "    <tr>\n",
       "      <th>tour_idynufedne</th>\n",
       "      <td>0.150209</td>\n",
       "      <td>0.075580</td>\n",
       "      <td>0.001952</td>\n",
       "      <td>0.064425</td>\n",
       "      <td>0.039761</td>\n",
       "      <td>0.668073</td>\n",
       "    </tr>\n",
       "    <tr>\n",
       "      <th>tour_id9r3y5moe</th>\n",
       "      <td>0.259010</td>\n",
       "      <td>0.539067</td>\n",
       "      <td>0.028909</td>\n",
       "      <td>0.013423</td>\n",
       "      <td>0.019256</td>\n",
       "      <td>0.140335</td>\n",
       "    </tr>\n",
       "    <tr>\n",
       "      <th>tour_idf6itml6g</th>\n",
       "      <td>0.669898</td>\n",
       "      <td>0.183604</td>\n",
       "      <td>0.005748</td>\n",
       "      <td>0.012243</td>\n",
       "      <td>0.011419</td>\n",
       "      <td>0.117088</td>\n",
       "    </tr>\n",
       "    <tr>\n",
       "      <th>tour_id99u4znru</th>\n",
       "      <td>0.038401</td>\n",
       "      <td>0.021692</td>\n",
       "      <td>0.000856</td>\n",
       "      <td>0.325005</td>\n",
       "      <td>0.153339</td>\n",
       "      <td>0.460707</td>\n",
       "    </tr>\n",
       "    <tr>\n",
       "      <th>tour_idj4i9urbx</th>\n",
       "      <td>0.031107</td>\n",
       "      <td>0.017994</td>\n",
       "      <td>0.001007</td>\n",
       "      <td>0.198439</td>\n",
       "      <td>0.309300</td>\n",
       "      <td>0.442153</td>\n",
       "    </tr>\n",
       "    <tr>\n",
       "      <th>...</th>\n",
       "      <td>...</td>\n",
       "      <td>...</td>\n",
       "      <td>...</td>\n",
       "      <td>...</td>\n",
       "      <td>...</td>\n",
       "      <td>...</td>\n",
       "    </tr>\n",
       "    <tr>\n",
       "      <th>tour_id2deyfjhq</th>\n",
       "      <td>0.021581</td>\n",
       "      <td>0.010699</td>\n",
       "      <td>0.000765</td>\n",
       "      <td>0.274507</td>\n",
       "      <td>0.515595</td>\n",
       "      <td>0.176853</td>\n",
       "    </tr>\n",
       "    <tr>\n",
       "      <th>tour_idlenv2rio</th>\n",
       "      <td>0.083421</td>\n",
       "      <td>0.032075</td>\n",
       "      <td>0.000688</td>\n",
       "      <td>0.107086</td>\n",
       "      <td>0.378628</td>\n",
       "      <td>0.398101</td>\n",
       "    </tr>\n",
       "    <tr>\n",
       "      <th>tour_id7wwqrs0p</th>\n",
       "      <td>0.361133</td>\n",
       "      <td>0.241725</td>\n",
       "      <td>0.008894</td>\n",
       "      <td>0.028487</td>\n",
       "      <td>0.031937</td>\n",
       "      <td>0.327824</td>\n",
       "    </tr>\n",
       "    <tr>\n",
       "      <th>tour_idx80vbw5a</th>\n",
       "      <td>0.096644</td>\n",
       "      <td>0.036129</td>\n",
       "      <td>0.000971</td>\n",
       "      <td>0.213828</td>\n",
       "      <td>0.152248</td>\n",
       "      <td>0.500180</td>\n",
       "    </tr>\n",
       "    <tr>\n",
       "      <th>tour_id8fkkwytb</th>\n",
       "      <td>0.019389</td>\n",
       "      <td>0.012009</td>\n",
       "      <td>0.000813</td>\n",
       "      <td>0.279287</td>\n",
       "      <td>0.374272</td>\n",
       "      <td>0.314231</td>\n",
       "    </tr>\n",
       "  </tbody>\n",
       "</table>\n",
       "<p>6169 rows × 6 columns</p>\n",
       "</div>"
      ],
      "text/plain": [
       "                 High Cost  Higher Cost  Highest Cost  Low Cost  Lower Cost  \\\n",
       "Tour_ID                                                                       \n",
       "tour_idynufedne   0.150209     0.075580      0.001952  0.064425    0.039761   \n",
       "tour_id9r3y5moe   0.259010     0.539067      0.028909  0.013423    0.019256   \n",
       "tour_idf6itml6g   0.669898     0.183604      0.005748  0.012243    0.011419   \n",
       "tour_id99u4znru   0.038401     0.021692      0.000856  0.325005    0.153339   \n",
       "tour_idj4i9urbx   0.031107     0.017994      0.001007  0.198439    0.309300   \n",
       "...                    ...          ...           ...       ...         ...   \n",
       "tour_id2deyfjhq   0.021581     0.010699      0.000765  0.274507    0.515595   \n",
       "tour_idlenv2rio   0.083421     0.032075      0.000688  0.107086    0.378628   \n",
       "tour_id7wwqrs0p   0.361133     0.241725      0.008894  0.028487    0.031937   \n",
       "tour_idx80vbw5a   0.096644     0.036129      0.000971  0.213828    0.152248   \n",
       "tour_id8fkkwytb   0.019389     0.012009      0.000813  0.279287    0.374272   \n",
       "\n",
       "                 Normal Cost  \n",
       "Tour_ID                       \n",
       "tour_idynufedne     0.668073  \n",
       "tour_id9r3y5moe     0.140335  \n",
       "tour_idf6itml6g     0.117088  \n",
       "tour_id99u4znru     0.460707  \n",
       "tour_idj4i9urbx     0.442153  \n",
       "...                      ...  \n",
       "tour_id2deyfjhq     0.176853  \n",
       "tour_idlenv2rio     0.398101  \n",
       "tour_id7wwqrs0p     0.327824  \n",
       "tour_idx80vbw5a     0.500180  \n",
       "tour_id8fkkwytb     0.314231  \n",
       "\n",
       "[6169 rows x 6 columns]"
      ]
     },
     "execution_count": 232,
     "metadata": {},
     "output_type": "execute_result"
    }
   ],
   "source": [
    "df_prob = pd.DataFrame(prob, columns=classes)\n",
    "df_prob.set_index(tourist_ids_test, inplace=True)\n",
    "df_prob"
   ]
  },
  {
   "cell_type": "code",
   "execution_count": 233,
   "metadata": {},
   "outputs": [],
   "source": [
    "df_prob.to_csv('AI4D_Submission.csv')"
   ]
  }
 ],
 "metadata": {
  "kernelspec": {
   "display_name": "iXperience",
   "language": "python",
   "name": "python3"
  },
  "language_info": {
   "codemirror_mode": {
    "name": "ipython",
    "version": 3
   },
   "file_extension": ".py",
   "mimetype": "text/x-python",
   "name": "python",
   "nbconvert_exporter": "python",
   "pygments_lexer": "ipython3",
   "version": "3.10.11"
  },
  "orig_nbformat": 4
 },
 "nbformat": 4,
 "nbformat_minor": 2
}
