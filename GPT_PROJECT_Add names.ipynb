{
 "cells": [
  {
   "cell_type": "code",
   "execution_count": 1,
   "metadata": {},
   "outputs": [],
   "source": [
    "import pandas as pd\n",
    "import glob\n",
    "import os"
   ]
  },
  {
   "cell_type": "code",
   "execution_count": 2,
   "metadata": {},
   "outputs": [
    {
     "name": "stdout",
     "output_type": "stream",
     "text": [
      "The modified CSV file has been saved to c:/Users/shara/OneDrive/Desktop/GPT Script/GPT4/Modified_GPT4Vision_OP_T0.5_R1.csv\n",
      "The modified CSV file has been saved to c:/Users/shara/OneDrive/Desktop/GPT Script/GPT4/Modified_GPT4Vision_OP_T0.5_R2.csv\n",
      "The modified CSV file has been saved to c:/Users/shara/OneDrive/Desktop/GPT Script/GPT4/Modified_GPT4Vision_OP_T0.5_R3.csv\n",
      "The modified CSV file has been saved to c:/Users/shara/OneDrive/Desktop/GPT Script/GPT4/Modified_GPT4Vision_OP_T0.5_R4.csv\n",
      "The modified CSV file has been saved to c:/Users/shara/OneDrive/Desktop/GPT Script/GPT4/Modified_GPT4Vision_OP_T0.5_R5.csv\n",
      "The modified CSV file has been saved to c:/Users/shara/OneDrive/Desktop/GPT Script/GPT4/Modified_GPT4Vision_OP_T0_R1.csv\n",
      "The modified CSV file has been saved to c:/Users/shara/OneDrive/Desktop/GPT Script/GPT4/Modified_GPT4Vision_OP_T0_R2.csv\n",
      "The modified CSV file has been saved to c:/Users/shara/OneDrive/Desktop/GPT Script/GPT4/Modified_GPT4Vision_OP_T0_R3.csv\n",
      "The modified CSV file has been saved to c:/Users/shara/OneDrive/Desktop/GPT Script/GPT4/Modified_GPT4Vision_OP_T0_R4.csv\n",
      "The modified CSV file has been saved to c:/Users/shara/OneDrive/Desktop/GPT Script/GPT4/Modified_GPT4Vision_OP_T0_R5.csv\n",
      "The modified CSV file has been saved to c:/Users/shara/OneDrive/Desktop/GPT Script/GPT4/Modified_GPT4Vision_OP_T1.0_R1.csv\n",
      "The modified CSV file has been saved to c:/Users/shara/OneDrive/Desktop/GPT Script/GPT4/Modified_GPT4Vision_OP_T1.0_R2.csv\n",
      "The modified CSV file has been saved to c:/Users/shara/OneDrive/Desktop/GPT Script/GPT4/Modified_GPT4Vision_OP_T1.0_R3.csv\n",
      "The modified CSV file has been saved to c:/Users/shara/OneDrive/Desktop/GPT Script/GPT4/Modified_GPT4Vision_OP_T1.0_R4.csv\n",
      "The modified CSV file has been saved to c:/Users/shara/OneDrive/Desktop/GPT Script/GPT4/Modified_GPT4Vision_OP_T1.0_R5.csv\n"
     ]
    }
   ],
   "source": [
    "\n",
    "\n",
    "directory_path = 'c:/Users/shara/OneDrive/Desktop/GPT Script/GPT4/'\n",
    "\n",
    "csv_files = glob.glob(os.path.join(directory_path, '*.csv'))\n",
    "\n",
    "# List of possible names to search for in the prompts\n",
    "names = [\n",
    "    \"Cindy\", \"John\", \"Sarah\", \"David\", \"Mary\", \"Michael\", \"Steven\", \"Stephanie\", \"Olivia\",\n",
    "    \"Lucas\", \"Trever\", \"Emma\", \"Harry\", \"Michelle\", \"Sandra\", \"Ben\", \"Robert\", \"Emily\",\n",
    "    \"Allie\", \"Ken\", \"Mia\", \"William\", \"Penelope\", \"James\"\n",
    "]\n",
    "\n",
    "# Function to find the name in the prompt\n",
    "def find_name_in_prompt(prompt):\n",
    "    for name in names:\n",
    "        if name in prompt:\n",
    "            return name\n",
    "    return None  # Return None if no name is found\n",
    "\n",
    "for csv_file_path in csv_files:\n",
    "    try:\n",
    "        # Try to read the CSV file using UTF-8 encoding\n",
    "        df = pd.read_csv(csv_file_path, encoding='utf-8', index_col=False)\n",
    "    except UnicodeDecodeError:\n",
    "        try:\n",
    "            # If UTF-8 doesn't work, try with 'cp1252' encoding\n",
    "            df = pd.read_csv(csv_file_path, encoding='cp1252', index_col=False)\n",
    "        except UnicodeDecodeError:\n",
    "            # If 'cp1252' also fails, use 'utf-8' encoding with error replacement\n",
    "            df = pd.read_csv(csv_file_path, encoding='utf-8', index_col=False, errors='replace')\n",
    "\n",
    "    # Apply the function to the 'prompt' column to create a new 'Name' column\n",
    "    df['name'] = df['prompt'].apply(find_name_in_prompt)\n",
    "\n",
    "    # Construct the output CSV file path\n",
    "    base_name = os.path.basename(csv_file_path)\n",
    "    output_csv_file_path = os.path.join(directory_path, f\"Modified_{base_name}\")\n",
    "    \n",
    "    # Save the modified DataFrame back to a new CSV file\n",
    "    df.to_csv(output_csv_file_path, index=False)\n",
    "\n",
    "    print(f\"The modified CSV file has been saved to {output_csv_file_path}\")\n"
   ]
  },
  {
   "cell_type": "code",
   "execution_count": null,
   "metadata": {},
   "outputs": [],
   "source": [
    "df"
   ]
  }
 ],
 "metadata": {
  "kernelspec": {
   "display_name": "Python 3",
   "language": "python",
   "name": "python3"
  },
  "language_info": {
   "codemirror_mode": {
    "name": "ipython",
    "version": 3
   },
   "file_extension": ".py",
   "mimetype": "text/x-python",
   "name": "python",
   "nbconvert_exporter": "python",
   "pygments_lexer": "ipython3",
   "version": "3.11.3"
  }
 },
 "nbformat": 4,
 "nbformat_minor": 2
}
